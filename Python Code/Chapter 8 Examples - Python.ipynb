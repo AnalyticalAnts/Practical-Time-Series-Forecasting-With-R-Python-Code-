{
 "cells": [
  {
   "cell_type": "markdown",
   "metadata": {},
   "source": [
    "# **Practical Time Series Forecasting with R**\n",
    "## Chapter 8: Forecasting Binary Outcomes"
   ]
  },
  {
   "cell_type": "code",
   "execution_count": 28,
   "metadata": {},
   "outputs": [],
   "source": [
    "## ESTABLISH ENVIRONMENT\n",
    "# Built-in libraries\n",
    "from datetime import datetime\n",
    "from pathlib import Path\n",
    "\n",
    "# Third-party libraries for data handling and scientific computation\n",
    "import numpy as np\n",
    "import pandas as pd\n",
    "\n",
    "# Libraries for preprocessing and visualization\n",
    "from sklearn.preprocessing import PolynomialFeatures\n",
    "import matplotlib.dates as mdates\n",
    "import matplotlib.pyplot as plt\n",
    "\n",
    "### IMPORTING DATA ###\n",
    "# Define Path\n",
    "Data_Repo = Path(\"/Users/[Insert Path to Data]/\")\n",
    "\n",
    "#Data\n",
    "\n",
    "rain_df = pd.read_excel(Data_Repo / \"MelbourneRainfall.xls\" )\n",
    "rain_df.rename(columns={\"Rainfall amount (millimetres)\": \"Rainfall\"}, inplace=True)"
   ]
  },
  {
   "cell_type": "code",
   "execution_count": 29,
   "metadata": {},
   "outputs": [
    {
     "name": "stdout",
     "output_type": "stream",
     "text": [
      "Intercept: [-0.76877475]\n",
      "Coefficients: [[ 0.11185534 -0.26814291 -0.37038982]]\n",
      "Confusion Matrix: train\n",
      "[[2251  104]\n",
      " [1115  182]]\n",
      "Confusion Matrix: valid\n",
      "[[373  21]\n",
      " [220  55]]\n"
     ]
    }
   ],
   "source": [
    "## Table 8.2: Summary of logistic regression model output\n",
    "## Table 8.3: Summary of logistic regression's predictive performance in training and validation periods\n",
    "\n",
    "from sklearn.linear_model import LogisticRegression\n",
    "from sklearn.metrics import confusion_matrix\n",
    "\n",
    "rain_df['Date'] = pd.to_datetime(rain_df['Date'], format=\"%m/%d/%Y\")\n",
    "rain_df['Rainy'] = np.where(rain_df['Rainfall'] > 0, 1, 0)\n",
    "nPeriods = len(rain_df['Rainy'])\n",
    "rain_df['Lag1'] = [np.nan] + list(rain_df['Rainfall'][:nPeriods-1])\n",
    "rain_df['t'] = np.arange(1, nPeriods+1, 1)\n",
    "rain_df['Seasonal_sine'] = np.sin(2 * np.pi * rain_df['t'] / 365.25)\n",
    "rain_df['Seasonal_cosine'] = np.cos(2 * np.pi * rain_df['t'] / 365.25)\n",
    "\n",
    "train_df = rain_df[rain_df['Date'] <= pd.to_datetime(\"12/31/2009\", format=\"%m/%d/%Y\")]\n",
    "train_df = train_df.iloc[1:]\n",
    "valid_df = rain_df[rain_df['Date'] > pd.to_datetime(\"12/31/2009\", format=\"%m/%d/%Y\")]\n",
    "xvalid = valid_df.iloc[:, [3, 5, 6]]\n",
    "\n",
    "rainy_lr = LogisticRegression()\n",
    "rainy_lr.fit(train_df[['Lag1', 'Seasonal_sine', 'Seasonal_cosine']], train_df['Rainy'])\n",
    "\n",
    "# Table 8.2\n",
    "print(\"Intercept:\", rainy_lr.intercept_)\n",
    "print(\"Coefficients:\", rainy_lr.coef_)\n",
    "\n",
    "\n",
    "rainy_lr_pred = rainy_lr.predict_proba(xvalid)[:, 1]\n",
    "\n",
    "# Table 8.3\n",
    "train_cm = confusion_matrix(train_df['Rainy'], np.where(rainy_lr.predict_proba(train_df[['Lag1', 'Seasonal_sine', 'Seasonal_cosine']])[:, 1] > 0.5, 1, 0))\n",
    "valid_cm = confusion_matrix(valid_df['Rainy'], np.where(rainy_lr_pred > 0.5, 1, 0))\n",
    "\n",
    "print ( 'Confusion Matrix: train')\n",
    "print(train_cm)\n",
    "print ( 'Confusion Matrix: valid')\n",
    "print(valid_cm)\n",
    "\n",
    "\n"
   ]
  }
 ],
 "metadata": {
  "kernelspec": {
   "display_name": "Python 3",
   "language": "python",
   "name": "python3"
  },
  "language_info": {
   "codemirror_mode": {
    "name": "ipython",
    "version": 3
   },
   "file_extension": ".py",
   "mimetype": "text/x-python",
   "name": "python",
   "nbconvert_exporter": "python",
   "pygments_lexer": "ipython3",
   "version": "3.11.4"
  },
  "orig_nbformat": 4
 },
 "nbformat": 4,
 "nbformat_minor": 2
}
